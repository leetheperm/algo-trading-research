{
 "cells": [
  {
   "cell_type": "markdown",
   "id": "f068aa91",
   "metadata": {},
   "source": [
    "# Crypto notebook\n",
    "\n",
    "A notebook looking at data analysis and algo-trading for crypto currencies on coinmarket cap.\n",
    "\n",
    "\n"
   ]
  },
  {
   "cell_type": "code",
   "execution_count": 3,
   "id": "3e0e9207",
   "metadata": {},
   "outputs": [],
   "source": [
    "# Import our modules here\n",
    "import json\n",
    "import requests\n",
    "import pandas as pd\n",
    "import numpy as np"
   ]
  },
  {
   "cell_type": "markdown",
   "id": "61a444fe",
   "metadata": {},
   "source": [
    "# Bitcoin market info from API call\n",
    "\n",
    "practicing parsing a data frame using the market data on Bitcoin. \n"
   ]
  },
  {
   "cell_type": "code",
   "execution_count": 59,
   "id": "45c1cc18",
   "metadata": {},
   "outputs": [
    {
     "data": {
      "text/html": [
       "<div>\n",
       "<style scoped>\n",
       "    .dataframe tbody tr th:only-of-type {\n",
       "        vertical-align: middle;\n",
       "    }\n",
       "\n",
       "    .dataframe tbody tr th {\n",
       "        vertical-align: top;\n",
       "    }\n",
       "\n",
       "    .dataframe thead th {\n",
       "        text-align: right;\n",
       "    }\n",
       "</style>\n",
       "<table border=\"1\" class=\"dataframe\">\n",
       "  <thead>\n",
       "    <tr style=\"text-align: right;\">\n",
       "      <th></th>\n",
       "      <th>BTC</th>\n",
       "    </tr>\n",
       "  </thead>\n",
       "  <tbody>\n",
       "    <tr>\n",
       "      <th>price</th>\n",
       "      <td>50819.494158</td>\n",
       "    </tr>\n",
       "    <tr>\n",
       "      <th>volume_24h</th>\n",
       "      <td>50819167274.593964</td>\n",
       "    </tr>\n",
       "    <tr>\n",
       "      <th>percent_change_1h</th>\n",
       "      <td>0.048054</td>\n",
       "    </tr>\n",
       "    <tr>\n",
       "      <th>percent_change_24h</th>\n",
       "      <td>-0.478431</td>\n",
       "    </tr>\n",
       "    <tr>\n",
       "      <th>percent_change_7d</th>\n",
       "      <td>-17.110845</td>\n",
       "    </tr>\n",
       "    <tr>\n",
       "      <th>percent_change_30d</th>\n",
       "      <td>-3.547308</td>\n",
       "    </tr>\n",
       "    <tr>\n",
       "      <th>percent_change_60d</th>\n",
       "      <td>10.287302</td>\n",
       "    </tr>\n",
       "    <tr>\n",
       "      <th>percent_change_90d</th>\n",
       "      <td>61.768066</td>\n",
       "    </tr>\n",
       "    <tr>\n",
       "      <th>market_cap</th>\n",
       "      <td>949833776895.311157</td>\n",
       "    </tr>\n",
       "    <tr>\n",
       "      <th>last_updated</th>\n",
       "      <td>2021-04-24T21:21:02.000Z</td>\n",
       "    </tr>\n",
       "  </tbody>\n",
       "</table>\n",
       "</div>"
      ],
      "text/plain": [
       "                                         BTC\n",
       "price                           50819.494158\n",
       "volume_24h                50819167274.593964\n",
       "percent_change_1h                   0.048054\n",
       "percent_change_24h                 -0.478431\n",
       "percent_change_7d                 -17.110845\n",
       "percent_change_30d                 -3.547308\n",
       "percent_change_60d                 10.287302\n",
       "percent_change_90d                 61.768066\n",
       "market_cap               949833776895.311157\n",
       "last_updated        2021-04-24T21:21:02.000Z"
      ]
     },
     "execution_count": 59,
     "metadata": {},
     "output_type": "execute_result"
    }
   ],
   "source": [
    "# open the demo file taken from a coinmarketcap API request. The file is called coinmarketcap.json\n",
    "with open(\"coinmarket.json\", \"r\") as read_file:\n",
    "    data = json.load(read_file)\n",
    "    \n",
    "market_cap = data['data'][0]['quote']['USD']['market_cap']\n",
    "name = data['data'][0]['name']\n",
    "price_btc = data['data'][0]['quote']['USD']\n",
    "headers = ['price', 'volume 24hr', 'change 1', 'change 24', 'change 7d', 'change 30d', 'change 60d', 'change 90d', 'market cap', 'updated']\n",
    "\n",
    "# Bitcoin data frame showing a few of the recent market changes\n",
    "pd.DataFrame.from_dict(price_btc,orient='index', columns=['BTC'])"
   ]
  },
  {
   "cell_type": "markdown",
   "id": "541b546a",
   "metadata": {},
   "source": [
    "# Other cryptos market data\n",
    "\n",
    "looping through the top 10 coins and sorting market data into a data frame"
   ]
  },
  {
   "cell_type": "code",
   "execution_count": null,
   "id": "bdb1eede",
   "metadata": {},
   "outputs": [],
   "source": []
  }
 ],
 "metadata": {
  "kernelspec": {
   "display_name": "Python 3",
   "language": "python",
   "name": "python3"
  },
  "language_info": {
   "codemirror_mode": {
    "name": "ipython",
    "version": 3
   },
   "file_extension": ".py",
   "mimetype": "text/x-python",
   "name": "python",
   "nbconvert_exporter": "python",
   "pygments_lexer": "ipython3",
   "version": "3.8.3"
  }
 },
 "nbformat": 4,
 "nbformat_minor": 5
}
