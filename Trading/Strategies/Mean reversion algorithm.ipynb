{
 "cells": [
  {
   "cell_type": "markdown",
   "id": "bb3960d5",
   "metadata": {},
   "source": [
    "# Mean reversion trading algo\n",
    "\n",
    "Mean reversion means that a price will move back towards a mean price or some kind of average over time. This means that a larger chaotic event like an extreme price drop, will be part of a smaller more orderly event over a longer period of time. Eg. if the price of BTC dropped 20% in 24 hours, it would likely drop much less the day after or even better, if it dropped 20% below the mean price, it would eventually return to that price, so it might be a good time to buy, all other indications considered."
   ]
  },
  {
   "cell_type": "code",
   "execution_count": 3,
   "id": "0a34139a",
   "metadata": {},
   "outputs": [],
   "source": [
    "import pandas as pd\n",
    "import numpy as np\n",
    "import matplotlib.pyplot as plt\n",
    "from matplotlib import rcParams\n",
    "rcParams['figure.figsize'] = 8,6\n",
    "import seaborn as sb\n",
    "sb.set()"
   ]
  },
  {
   "cell_type": "code",
   "execution_count": 25,
   "id": "24700a14",
   "metadata": {},
   "outputs": [
    {
     "data": {
      "text/plain": [
       "pandas.core.frame.DataFrame"
      ]
     },
     "execution_count": 25,
     "metadata": {},
     "output_type": "execute_result"
    }
   ],
   "source": [
    "btc = pd.read_csv('../data_folder/BTC_USD_2020-04-26_2021-04-25-CoinDesk (1).csv')\n",
    "df = btc[['Closing Price (USD)']]"
   ]
  },
  {
   "cell_type": "code",
   "execution_count": null,
   "id": "0d4cd2e1",
   "metadata": {},
   "outputs": [],
   "source": []
  }
 ],
 "metadata": {
  "kernelspec": {
   "display_name": "Python 3",
   "language": "python",
   "name": "python3"
  },
  "language_info": {
   "codemirror_mode": {
    "name": "ipython",
    "version": 3
   },
   "file_extension": ".py",
   "mimetype": "text/x-python",
   "name": "python",
   "nbconvert_exporter": "python",
   "pygments_lexer": "ipython3",
   "version": "3.8.3"
  }
 },
 "nbformat": 4,
 "nbformat_minor": 5
}
