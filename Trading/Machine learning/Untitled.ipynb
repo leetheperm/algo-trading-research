{
 "cells": [
  {
   "cell_type": "code",
   "execution_count": 3,
   "id": "54653f08",
   "metadata": {},
   "outputs": [
    {
     "data": {
      "text/html": [
       "<div>\n",
       "<style scoped>\n",
       "    .dataframe tbody tr th:only-of-type {\n",
       "        vertical-align: middle;\n",
       "    }\n",
       "\n",
       "    .dataframe tbody tr th {\n",
       "        vertical-align: top;\n",
       "    }\n",
       "\n",
       "    .dataframe thead th {\n",
       "        text-align: right;\n",
       "    }\n",
       "</style>\n",
       "<table border=\"1\" class=\"dataframe\">\n",
       "  <thead>\n",
       "    <tr style=\"text-align: right;\">\n",
       "      <th></th>\n",
       "      <th>Pregnancies</th>\n",
       "      <th>Glucose</th>\n",
       "      <th>BloodPressure</th>\n",
       "      <th>SkinThickness</th>\n",
       "      <th>Insulin</th>\n",
       "      <th>BMI</th>\n",
       "      <th>DiabetesPedigreeFunction</th>\n",
       "      <th>Age</th>\n",
       "      <th>Outcome</th>\n",
       "    </tr>\n",
       "  </thead>\n",
       "  <tbody>\n",
       "    <tr>\n",
       "      <th>0</th>\n",
       "      <td>6</td>\n",
       "      <td>148</td>\n",
       "      <td>72</td>\n",
       "      <td>35</td>\n",
       "      <td>0</td>\n",
       "      <td>33.6</td>\n",
       "      <td>0.627</td>\n",
       "      <td>50</td>\n",
       "      <td>1</td>\n",
       "    </tr>\n",
       "    <tr>\n",
       "      <th>1</th>\n",
       "      <td>1</td>\n",
       "      <td>85</td>\n",
       "      <td>66</td>\n",
       "      <td>29</td>\n",
       "      <td>0</td>\n",
       "      <td>26.6</td>\n",
       "      <td>0.351</td>\n",
       "      <td>31</td>\n",
       "      <td>0</td>\n",
       "    </tr>\n",
       "    <tr>\n",
       "      <th>2</th>\n",
       "      <td>8</td>\n",
       "      <td>183</td>\n",
       "      <td>64</td>\n",
       "      <td>0</td>\n",
       "      <td>0</td>\n",
       "      <td>23.3</td>\n",
       "      <td>0.672</td>\n",
       "      <td>32</td>\n",
       "      <td>1</td>\n",
       "    </tr>\n",
       "    <tr>\n",
       "      <th>3</th>\n",
       "      <td>1</td>\n",
       "      <td>89</td>\n",
       "      <td>66</td>\n",
       "      <td>23</td>\n",
       "      <td>94</td>\n",
       "      <td>28.1</td>\n",
       "      <td>0.167</td>\n",
       "      <td>21</td>\n",
       "      <td>0</td>\n",
       "    </tr>\n",
       "    <tr>\n",
       "      <th>4</th>\n",
       "      <td>0</td>\n",
       "      <td>137</td>\n",
       "      <td>40</td>\n",
       "      <td>35</td>\n",
       "      <td>168</td>\n",
       "      <td>43.1</td>\n",
       "      <td>2.288</td>\n",
       "      <td>33</td>\n",
       "      <td>1</td>\n",
       "    </tr>\n",
       "  </tbody>\n",
       "</table>\n",
       "</div>"
      ],
      "text/plain": [
       "   Pregnancies  Glucose  BloodPressure  SkinThickness  Insulin   BMI  \\\n",
       "0            6      148             72             35        0  33.6   \n",
       "1            1       85             66             29        0  26.6   \n",
       "2            8      183             64              0        0  23.3   \n",
       "3            1       89             66             23       94  28.1   \n",
       "4            0      137             40             35      168  43.1   \n",
       "\n",
       "   DiabetesPedigreeFunction  Age  Outcome  \n",
       "0                     0.627   50        1  \n",
       "1                     0.351   31        0  \n",
       "2                     0.672   32        1  \n",
       "3                     0.167   21        0  \n",
       "4                     2.288   33        1  "
      ]
     },
     "execution_count": 3,
     "metadata": {},
     "output_type": "execute_result"
    }
   ],
   "source": [
    "import numpy as np\n",
    "import pandas as pd\n",
    "import matplotlib.pyplot as plt\n",
    "import sklearn\n",
    "\n",
    "df = pd.read_csv('../data_folder/diabetes.csv')\n",
    "df.head()\n"
   ]
  },
  {
   "cell_type": "markdown",
   "id": "f2394dab",
   "metadata": {},
   "source": [
    "## Splitting data into train and test\n",
    "train = 70%\n",
    "test = 30%"
   ]
  },
  {
   "cell_type": "code",
   "execution_count": 36,
   "id": "63046692",
   "metadata": {},
   "outputs": [],
   "source": [
    "from sklearn.model_selection import train_test_split\n",
    "\n",
    "num_true = len(df.loc[df['Outcome'] == True])\n",
    "num_false = len(df.loc[df['Outcome'] == False])\n",
    "\n",
    "# Calculate true and false outcomes into precentages\n",
    "false_calc = (num_false / (num_true+ num_false)*100)\n",
    "true_calc = (num_true / (num_true+ num_false)*100)\n",
    "\n",
    "feature_col = ['Pregnancies','Glucose','BloodPressure','SkinThickness','Insulin','BMI','DiabetesPedigreeFunction','Age','Outcome']\n",
    "predicted_col = ['Outcome']\n",
    "X = df[feature_col].values\n",
    "Y = df[predicted_col].values\n",
    "\n",
    "split_test_size = 0.30\n",
    "\n",
    "X_train, X_test, Y_train, Y_test = train_test_split(X, Y, test_size=split_test_size, random_state=42)\n",
    "\n"
   ]
  },
  {
   "cell_type": "markdown",
   "id": "61b6909c",
   "metadata": {},
   "source": [
    "check that the split is correct"
   ]
  },
  {
   "cell_type": "code",
   "execution_count": 8,
   "id": "6aec1db8",
   "metadata": {},
   "outputs": [
    {
     "name": "stdout",
     "output_type": "stream",
     "text": [
      "69.921875\n",
      "30.078125\n"
     ]
    }
   ],
   "source": [
    "# Training data should be ~70%\n",
    "print((len(X_train)/len(df.index)*100))\n",
    "# Test data should be ~30%\n",
    "print((len(X_test)/len(df.index)*100))\n"
   ]
  },
  {
   "cell_type": "markdown",
   "id": "6d1863c1",
   "metadata": {},
   "source": [
    "Test that the true/false ration is similar for the original set of datat, training set and test set"
   ]
  },
  {
   "cell_type": "code",
   "execution_count": null,
   "id": "666973a4",
   "metadata": {},
   "outputs": [],
   "source": []
  },
  {
   "cell_type": "markdown",
   "id": "a452ddc0",
   "metadata": {},
   "source": [
    "Find zero values that are incorrect"
   ]
  },
  {
   "cell_type": "code",
   "execution_count": 26,
   "id": "883a30ae",
   "metadata": {},
   "outputs": [
    {
     "name": "stdout",
     "output_type": "stream",
     "text": [
      "768 is the total number of rows\n",
      "Glucose zeros: 5\n",
      "Pregancy zeros: 111\n",
      "Blood pressure zeros: 35\n",
      "skin thickness zeros: 227\n",
      "Insulin zeros: 374\n",
      "BMI zeros: 11\n",
      "Outcome zeros: 500\n",
      "Diabetes pedigree function zeros: 0\n"
     ]
    }
   ],
   "source": [
    "print(f'{len(df)} is the total number of rows')\n",
    "glucose = (len(df.loc[df['Glucose'] == 0]))\n",
    "pregs = (len(df.loc[df['Pregnancies'] == 0]))\n",
    "blood_press = (len(df.loc[df['BloodPressure'] == 0]))\n",
    "skin = (len(df.loc[df['SkinThickness'] == 0]))\n",
    "insulin = (len(df.loc[df['Insulin'] == 0]))\n",
    "BMI = (len(df.loc[df['BMI'] == 0]))\n",
    "age = (len(df.loc[df['Age'] == 0]))\n",
    "outcome = (len(df.loc[df['Outcome'] == 0]))\n",
    "diabetes_ped = (len(df.loc[df['DiabetesPedigreeFunction'] == 0]))\n",
    "\n",
    "print(f'Glucose zeros: {glucose}')\n",
    "print(f'Pregancy zeros: {pregs}')\n",
    "print(f'Blood pressure zeros: {blood_press}')\n",
    "print(f'skin thickness zeros: {skin}')\n",
    "print(f'Insulin zeros: {insulin}')\n",
    "print(f'BMI zeros: {BMI}')\n",
    "print(f'Outcome zeros: {outcome}')\n",
    "print(f'Diabetes pedigree function zeros: {diabetes_ped}')\n"
   ]
  },
  {
   "cell_type": "markdown",
   "id": "445c67eb",
   "metadata": {},
   "source": [
    "## Impute with the mean\n",
    "\n"
   ]
  },
  {
   "cell_type": "code",
   "execution_count": 32,
   "id": "ad53a4ec",
   "metadata": {},
   "outputs": [],
   "source": [
    "from sklearn.impute import SimpleImputer\n",
    "\n",
    "fill_zeros = SimpleImputer(missing_values=0, strategy='mean')\n",
    "\n",
    "X_train = fill_zeros.fit_transform(X_train)\n",
    "X_test = fill_zeros.fit_transform(X_test)"
   ]
  },
  {
   "cell_type": "markdown",
   "id": "e894b68d",
   "metadata": {},
   "source": [
    "## Train the naive Baye's"
   ]
  },
  {
   "cell_type": "code",
   "execution_count": 37,
   "id": "ccf74694",
   "metadata": {},
   "outputs": [
    {
     "data": {
      "text/plain": [
       "GaussianNB()"
      ]
     },
     "execution_count": 37,
     "metadata": {},
     "output_type": "execute_result"
    }
   ],
   "source": [
    "from sklearn.naive_bayes import GaussianNB\n",
    "\n",
    "model = GaussianNB()\n",
    "\n",
    "model.fit(X_train,Y_train.ravel())"
   ]
  }
 ],
 "metadata": {
  "kernelspec": {
   "display_name": "Python 3",
   "language": "python",
   "name": "python3"
  },
  "language_info": {
   "codemirror_mode": {
    "name": "ipython",
    "version": 3
   },
   "file_extension": ".py",
   "mimetype": "text/x-python",
   "name": "python",
   "nbconvert_exporter": "python",
   "pygments_lexer": "ipython3",
   "version": "3.8.3"
  }
 },
 "nbformat": 4,
 "nbformat_minor": 5
}
