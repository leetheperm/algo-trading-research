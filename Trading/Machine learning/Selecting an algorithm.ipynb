{
 "cells": [
  {
   "cell_type": "markdown",
   "id": "f011474d",
   "metadata": {},
   "source": [
    "# Selecting algorithms"
   ]
  },
  {
   "cell_type": "markdown",
   "id": "f175240f",
   "metadata": {},
   "source": [
    "In this notebook, I will look at 4 decision factors to consider when selecting an algorithm to drive a machine learning model\n",
    "\n",
    "- Learning type\n",
    "- Result\n",
    "- Complexity\n",
    "- Basic vs enhanced"
   ]
  },
  {
   "cell_type": "markdown",
   "id": "c7ddd24e",
   "metadata": {},
   "source": [
    "## Learning type\n",
    "\n",
    "prediction model falls under supervised machine learning\n",
    "\n",
    "\n",
    "## Result types\n",
    "There are 2 result types:\n",
    "- regression\n",
    "- classification\n",
    "\n",
    "Regression uses continuous values (B* size)\n",
    "Classification uses discrete values (small, medium, large)\n",
    "\n",
    "since True or False is binary, we can use binary classification supported algorithm\n",
    "\n",
    "## Complexity\n",
    "\n",
    "Enhanced or basic?\n",
    "\n",
    "## Basic algorithms\n",
    "\n",
    "### Naive Bayes \n",
    "based on likelihood and probability using Baye's thereom. Every feature has the same weight. Trains with small amount of data.\n",
    "\n",
    "### logistic regression\n",
    "\n",
    "Relationship is weighted on its impact of the result between 0 and 1\n",
    "\n",
    "### Decision tree\n",
    "\n",
    "Uses binary decisions to go down a layer at a time. Very visual.\n",
    "\n"
   ]
  }
 ],
 "metadata": {
  "kernelspec": {
   "display_name": "Python 3",
   "language": "python",
   "name": "python3"
  },
  "language_info": {
   "codemirror_mode": {
    "name": "ipython",
    "version": 3
   },
   "file_extension": ".py",
   "mimetype": "text/x-python",
   "name": "python",
   "nbconvert_exporter": "python",
   "pygments_lexer": "ipython3",
   "version": "3.8.3"
  }
 },
 "nbformat": 4,
 "nbformat_minor": 5
}
