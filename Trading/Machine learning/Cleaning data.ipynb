{
 "cells": [
  {
   "cell_type": "markdown",
   "id": "ec66b562",
   "metadata": {},
   "source": [
    "# Cleaning data\n",
    "\n",
    "Null values and correlated values can cause our models to become inefficient and unable to predict, so it's important to clean the data first and make sure that we on;y focus on data that gives us real insight intp the problem we're trying to solve. "
   ]
  },
  {
   "cell_type": "code",
   "execution_count": 7,
   "id": "3cdeb9da",
   "metadata": {},
   "outputs": [],
   "source": [
    "# Import our modules\n",
    "import pandas as pd\n",
    "import matplotlib.pyplot as plt\n",
    "import numpy as np\n",
    "import seaborn as sn\n"
   ]
  },
  {
   "cell_type": "code",
   "execution_count": 12,
   "id": "6636db51",
   "metadata": {},
   "outputs": [
    {
     "data": {
      "text/html": [
       "<div>\n",
       "<style scoped>\n",
       "    .dataframe tbody tr th:only-of-type {\n",
       "        vertical-align: middle;\n",
       "    }\n",
       "\n",
       "    .dataframe tbody tr th {\n",
       "        vertical-align: top;\n",
       "    }\n",
       "\n",
       "    .dataframe thead th {\n",
       "        text-align: right;\n",
       "    }\n",
       "</style>\n",
       "<table border=\"1\" class=\"dataframe\">\n",
       "  <thead>\n",
       "    <tr style=\"text-align: right;\">\n",
       "      <th></th>\n",
       "      <th>Currency</th>\n",
       "      <th>Date</th>\n",
       "      <th>Closing Price (USD)</th>\n",
       "      <th>24h Open (USD)</th>\n",
       "      <th>24h High (USD)</th>\n",
       "      <th>24h Low (USD)</th>\n",
       "    </tr>\n",
       "  </thead>\n",
       "  <tbody>\n",
       "    <tr>\n",
       "      <th>0</th>\n",
       "      <td>BTC</td>\n",
       "      <td>2020-04-26</td>\n",
       "      <td>7542.303401</td>\n",
       "      <td>7497.859881</td>\n",
       "      <td>7702.018980</td>\n",
       "      <td>7445.685898</td>\n",
       "    </tr>\n",
       "    <tr>\n",
       "      <th>1</th>\n",
       "      <td>BTC</td>\n",
       "      <td>2020-04-27</td>\n",
       "      <td>7624.853786</td>\n",
       "      <td>7542.303101</td>\n",
       "      <td>7707.594271</td>\n",
       "      <td>7503.770143</td>\n",
       "    </tr>\n",
       "    <tr>\n",
       "      <th>2</th>\n",
       "      <td>BTC</td>\n",
       "      <td>2020-04-28</td>\n",
       "      <td>7776.507543</td>\n",
       "      <td>7624.854338</td>\n",
       "      <td>7798.276656</td>\n",
       "      <td>7621.487082</td>\n",
       "    </tr>\n",
       "    <tr>\n",
       "      <th>3</th>\n",
       "      <td>BTC</td>\n",
       "      <td>2020-04-29</td>\n",
       "      <td>7761.758784</td>\n",
       "      <td>7788.574229</td>\n",
       "      <td>7793.636018</td>\n",
       "      <td>7677.178774</td>\n",
       "    </tr>\n",
       "    <tr>\n",
       "      <th>4</th>\n",
       "      <td>BTC</td>\n",
       "      <td>2020-04-30</td>\n",
       "      <td>8773.106488</td>\n",
       "      <td>7761.758619</td>\n",
       "      <td>8973.079277</td>\n",
       "      <td>7725.542654</td>\n",
       "    </tr>\n",
       "  </tbody>\n",
       "</table>\n",
       "</div>"
      ],
      "text/plain": [
       "  Currency        Date  Closing Price (USD)  24h Open (USD)  24h High (USD)  \\\n",
       "0      BTC  2020-04-26          7542.303401     7497.859881     7702.018980   \n",
       "1      BTC  2020-04-27          7624.853786     7542.303101     7707.594271   \n",
       "2      BTC  2020-04-28          7776.507543     7624.854338     7798.276656   \n",
       "3      BTC  2020-04-29          7761.758784     7788.574229     7793.636018   \n",
       "4      BTC  2020-04-30          8773.106488     7761.758619     8973.079277   \n",
       "\n",
       "   24h Low (USD)  \n",
       "0    7445.685898  \n",
       "1    7503.770143  \n",
       "2    7621.487082  \n",
       "3    7677.178774  \n",
       "4    7725.542654  "
      ]
     },
     "execution_count": 12,
     "metadata": {},
     "output_type": "execute_result"
    }
   ],
   "source": [
    "df = pd.read_csv('../data_folder/BTC_USD_2020-04-26_2021-04-25-CoinDesk (1).csv')\n",
    "df.head()"
   ]
  },
  {
   "cell_type": "code",
   "execution_count": 13,
   "id": "821db168",
   "metadata": {},
   "outputs": [
    {
     "data": {
      "text/html": [
       "<div>\n",
       "<style scoped>\n",
       "    .dataframe tbody tr th:only-of-type {\n",
       "        vertical-align: middle;\n",
       "    }\n",
       "\n",
       "    .dataframe tbody tr th {\n",
       "        vertical-align: top;\n",
       "    }\n",
       "\n",
       "    .dataframe thead th {\n",
       "        text-align: right;\n",
       "    }\n",
       "</style>\n",
       "<table border=\"1\" class=\"dataframe\">\n",
       "  <thead>\n",
       "    <tr style=\"text-align: right;\">\n",
       "      <th></th>\n",
       "      <th>Closing Price (USD)</th>\n",
       "      <th>24h Open (USD)</th>\n",
       "      <th>24h High (USD)</th>\n",
       "      <th>24h Low (USD)</th>\n",
       "    </tr>\n",
       "  </thead>\n",
       "  <tbody>\n",
       "    <tr>\n",
       "      <th>Closing Price (USD)</th>\n",
       "      <td>1.000000</td>\n",
       "      <td>0.998083</td>\n",
       "      <td>0.999237</td>\n",
       "      <td>0.998854</td>\n",
       "    </tr>\n",
       "    <tr>\n",
       "      <th>24h Open (USD)</th>\n",
       "      <td>0.998083</td>\n",
       "      <td>1.000000</td>\n",
       "      <td>0.999061</td>\n",
       "      <td>0.998205</td>\n",
       "    </tr>\n",
       "    <tr>\n",
       "      <th>24h High (USD)</th>\n",
       "      <td>0.999237</td>\n",
       "      <td>0.999061</td>\n",
       "      <td>1.000000</td>\n",
       "      <td>0.998204</td>\n",
       "    </tr>\n",
       "    <tr>\n",
       "      <th>24h Low (USD)</th>\n",
       "      <td>0.998854</td>\n",
       "      <td>0.998205</td>\n",
       "      <td>0.998204</td>\n",
       "      <td>1.000000</td>\n",
       "    </tr>\n",
       "  </tbody>\n",
       "</table>\n",
       "</div>"
      ],
      "text/plain": [
       "                     Closing Price (USD)  24h Open (USD)  24h High (USD)  \\\n",
       "Closing Price (USD)             1.000000        0.998083        0.999237   \n",
       "24h Open (USD)                  0.998083        1.000000        0.999061   \n",
       "24h High (USD)                  0.999237        0.999061        1.000000   \n",
       "24h Low (USD)                   0.998854        0.998205        0.998204   \n",
       "\n",
       "                     24h Low (USD)  \n",
       "Closing Price (USD)       0.998854  \n",
       "24h Open (USD)            0.998205  \n",
       "24h High (USD)            0.998204  \n",
       "24h Low (USD)             1.000000  "
      ]
     },
     "execution_count": 13,
     "metadata": {},
     "output_type": "execute_result"
    }
   ],
   "source": [
    "df.corr()"
   ]
  },
  {
   "cell_type": "code",
   "execution_count": 14,
   "id": "c0421a33",
   "metadata": {},
   "outputs": [
    {
     "data": {
      "text/plain": [
       "<AxesSubplot:>"
      ]
     },
     "execution_count": 14,
     "metadata": {},
     "output_type": "execute_result"
    },
    {
     "data": {
      "image/png": "[encoded data removed]",
      "text/plain": [
       "<Figure size 432x288 with 2 Axes>"
      ]
     },
     "metadata": {
      "needs_background": "light"
     },
     "output_type": "display_data"
    }
   ],
   "source": [
    "matrix = df.corr()\n",
    "sn.heatmap(matrix, annot=True)"
   ]
  }
 ],
 "metadata": {
  "kernelspec": {
   "display_name": "Python 3",
   "language": "python",
   "name": "python3"
  },
  "language_info": {
   "codemirror_mode": {
    "name": "ipython",
    "version": 3
   },
   "file_extension": ".py",
   "mimetype": "text/x-python",
   "name": "python",
   "nbconvert_exporter": "python",
   "pygments_lexer": "ipython3",
   "version": "3.8.3"
  }
 },
 "nbformat": 4,
 "nbformat_minor": 5
}
