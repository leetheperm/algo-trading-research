{
 "cells": [
  {
   "cell_type": "markdown",
   "id": "b5ba6deb",
   "metadata": {},
   "source": [
    "# Kraken\n",
    "\n",
    "## Kraken API\n",
    "\n",
    "Kraken API is the API I will use to trade cryptocurrencies. It has a couple of public endpoints and some private endpoints hwere trades can be created and removed.\n",
    "\n",
    "### Endpoint examples\n",
    "\n",
    "https://api.kraken.com/0/public/Assets?asset=btc\n",
    "\n",
    "https://api.kraken.com/0/public/Ticker?pair=XBTUSD\n",
    "\n",
    "https://api.kraken.com/0/public/OHLC?pair=XBTUSD\n",
    "\n"
   ]
  }
 ],
 "metadata": {
  "kernelspec": {
   "display_name": "Python 3",
   "language": "python",
   "name": "python3"
  },
  "language_info": {
   "codemirror_mode": {
    "name": "ipython",
    "version": 3
   },
   "file_extension": ".py",
   "mimetype": "text/x-python",
   "name": "python",
   "nbconvert_exporter": "python",
   "pygments_lexer": "ipython3",
   "version": "3.8.3"
  }
 },
 "nbformat": 4,
 "nbformat_minor": 5
}
