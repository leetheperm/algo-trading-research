{
 "cells": [
  {
   "cell_type": "markdown",
   "id": "1b591813",
   "metadata": {},
   "source": [
    "# Crypto VS Stocks\n",
    "\n",
    "\n",
    "The stock markets are a huge store of wealth (17% of US wealth in stock markets) the world over and as investors from 'Wall street' move into crypto, it'd be interesting to see how well their portfolios would compare.\n",
    "\n",
    "My idea is to make a dataframe and output comparisons of crypto with regular stocks. Exactly how I go about this problem is going to evolve, as choosing an individual stock isn't always the best indication of the market whreas crypto markets do loosely follow BTC espcially during bull cycles.\n",
    "\n",
    "\n",
    "\n",
    "\n"
   ]
  },
  {
   "cell_type": "code",
   "execution_count": null,
   "id": "d46915cb",
   "metadata": {},
   "outputs": [],
   "source": []
  }
 ],
 "metadata": {
  "kernelspec": {
   "display_name": "Python 3",
   "language": "python",
   "name": "python3"
  },
  "language_info": {
   "codemirror_mode": {
    "name": "ipython",
    "version": 3
   },
   "file_extension": ".py",
   "mimetype": "text/x-python",
   "name": "python",
   "nbconvert_exporter": "python",
   "pygments_lexer": "ipython3",
   "version": "3.8.3"
  }
 },
 "nbformat": 4,
 "nbformat_minor": 5
}
